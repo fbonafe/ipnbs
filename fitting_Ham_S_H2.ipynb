{
 "cells": [
  {
   "cell_type": "code",
   "execution_count": 30,
   "metadata": {
    "collapsed": true
   },
   "outputs": [],
   "source": [
    "import os\n",
    "import numpy as np\n",
    "import matplotlib.pyplot as plt\n",
    "%matplotlib inline\n",
    "from scipy.optimize import curve_fit\n",
    "from scipy.special import erf"
   ]
  },
  {
   "cell_type": "code",
   "execution_count": 151,
   "metadata": {
    "collapsed": true
   },
   "outputs": [],
   "source": [
    "def fham(r,a,q,y0):\n",
    "    return -a/r**q-y0\n",
    "\n",
    "def fover(r,a,b,y0):\n",
    "    return b*erf(a*r)/r-y0"
   ]
  },
  {
   "cell_type": "code",
   "execution_count": 32,
   "metadata": {
    "collapsed": false
   },
   "outputs": [],
   "source": [
    "os.chdir('/home/franco/dftb_devel/src/prg_dftb/h2')"
   ]
  },
  {
   "cell_type": "code",
   "execution_count": 33,
   "metadata": {
    "collapsed": true
   },
   "outputs": [],
   "source": [
    "data1 = np.genfromtxt('hamil_dhh.dat')\n",
    "data2 = np.genfromtxt('over_dhh.dat')"
   ]
  },
  {
   "cell_type": "code",
   "execution_count": 34,
   "metadata": {
    "collapsed": true
   },
   "outputs": [],
   "source": [
    "d = data1[:,0]\n",
    "h = data1[:,1]\n",
    "s = data2[:,1]"
   ]
  },
  {
   "cell_type": "code",
   "execution_count": 159,
   "metadata": {
    "collapsed": false
   },
   "outputs": [],
   "source": [
    "popt1, pcov1 = curve_fit(fham, d, h, p0=[1,3,0], maxfev=4000)"
   ]
  },
  {
   "cell_type": "code",
   "execution_count": 160,
   "metadata": {
    "collapsed": false
   },
   "outputs": [
    {
     "data": {
      "text/plain": [
       "[<matplotlib.lines.Line2D at 0x7fe87cce28d0>,\n",
       " <matplotlib.lines.Line2D at 0x7fe87cce2b50>]"
      ]
     },
     "execution_count": 160,
     "metadata": {},
     "output_type": "execute_result"
    },
    {
     "data": {
      "image/png": "[encoded data removed]",
      "text/plain": [
       "<matplotlib.figure.Figure at 0x7fe87da61710>"
      ]
     },
     "metadata": {},
     "output_type": "display_data"
    }
   ],
   "source": [
    "hfit = fham(d,*popt1)\n",
    "plt.plot(d,h,d,hfit)"
   ]
  },
  {
   "cell_type": "code",
   "execution_count": 162,
   "metadata": {
    "collapsed": false
   },
   "outputs": [
    {
     "data": {
      "text/plain": [
       "array([  5.02049612e+03,   5.18662629e-05,  -5.02044812e+03])"
      ]
     },
     "execution_count": 162,
     "metadata": {},
     "output_type": "execute_result"
    }
   ],
   "source": [
    "popt1"
   ]
  },
  {
   "cell_type": "markdown",
   "metadata": {},
   "source": [
    "El hamiltoniano se fita con los siguientes parámetros $$H=-\\frac{a}{r^q}+y_0$$ con $a=5.0205\\times10^3$, $q=5.18663\\times 10^{-5}$, $y_0=5.02045\\times 10^{3}$"
   ]
  },
  {
   "cell_type": "code",
   "execution_count": 161,
   "metadata": {
    "collapsed": false
   },
   "outputs": [],
   "source": [
    "popt2, pcov2 =  curve_fit(fover, d, s, p0=[3,0.5,0.6])"
   ]
  },
  {
   "cell_type": "code",
   "execution_count": 164,
   "metadata": {
    "collapsed": false
   },
   "outputs": [
    {
     "data": {
      "text/plain": [
       "array([ 2.76028932,  0.44674628,  0.38930338])"
      ]
     },
     "execution_count": 164,
     "metadata": {},
     "output_type": "execute_result"
    },
    {
     "data": {
      "image/png": "[encoded data removed]",
      "text/plain": [
       "<matplotlib.figure.Figure at 0x7fe87dbcea10>"
      ]
     },
     "metadata": {},
     "output_type": "display_data"
    }
   ],
   "source": [
    "sfit = fover(d,*popt2)\n",
    "plt.plot(d,s,d,sfit)\n",
    "popt2"
   ]
  },
  {
   "cell_type": "markdown",
   "metadata": {},
   "source": [
    "El overlap se fita con los siguientes parámetros $$S=b\\frac{\\mathrm{erfc}(ar)}{r}-y_0$$ con $a=2.7603$, $q=0.44675$, $y_0=0.3893$"
   ]
  },
  {
   "cell_type": "code",
   "execution_count": null,
   "metadata": {
    "collapsed": true
   },
   "outputs": [],
   "source": []
  }
 ],
 "metadata": {
  "kernelspec": {
   "display_name": "Python 2",
   "language": "python",
   "name": "python2"
  },
  "language_info": {
   "codemirror_mode": {
    "name": "ipython",
    "version": 2
   },
   "file_extension": ".py",
   "mimetype": "text/x-python",
   "name": "python",
   "nbconvert_exporter": "python",
   "pygments_lexer": "ipython2",
   "version": "2.7.10"
  }
 },
 "nbformat": 4,
 "nbformat_minor": 0
}
