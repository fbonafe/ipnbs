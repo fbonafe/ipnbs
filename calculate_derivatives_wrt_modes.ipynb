{
 "cells": [
  {
   "cell_type": "code",
   "execution_count": 1,
   "metadata": {
    "collapsed": true
   },
   "outputs": [],
   "source": [
    "import os\n",
    "import numpy as np\n",
    "import matplotlib.pyplot as plt\n",
    "%matplotlib inline\n",
    "from dftb_driver import dftb_plus"
   ]
  },
  {
   "cell_type": "code",
   "execution_count": 20,
   "metadata": {
    "collapsed": false
   },
   "outputs": [],
   "source": [
    "def writeXYZ(filename, names, coords):\n",
    "    with open(filename, 'w') as f:\n",
    "        f.write(str(len(names))+'\\n')\n",
    "        f.write('\\n')\n",
    "        for i in range(len(names)):\n",
    "            f.write('{0}    {1:.8f}    {2:.8f}    {3:.8f}\\n'.format(\n",
    "                names[i], coords[i,0], coords[i,1], coords[i,2]))\n",
    "            #f.write(str(names[i])+\"  \"+str(coords[i,0])+\"  \"+str(coords[i,1])+\n",
    "            #        \"  \"+str(coords[i,2])+'\\n')"
   ]
  },
  {
   "cell_type": "code",
   "execution_count": 3,
   "metadata": {
    "collapsed": true
   },
   "outputs": [],
   "source": [
    "f = open('modes.xyz', 'r')"
   ]
  },
  {
   "cell_type": "code",
   "execution_count": 4,
   "metadata": {
    "collapsed": false
   },
   "outputs": [],
   "source": [
    "lines = f.readlines()"
   ]
  },
  {
   "cell_type": "code",
   "execution_count": 5,
   "metadata": {
    "collapsed": false
   },
   "outputs": [],
   "source": [
    "natoms = int(lines[0].strip())\n",
    "nmodes = 3 * natoms - 6\n",
    "displ = np.zeros((nmodes, natoms, 3))\n",
    "coords = np.zeros((natoms, 3))\n",
    "names = [0] * natoms\n",
    "eigen_mode = np.zeros((nmodes))"
   ]
  },
  {
   "cell_type": "code",
   "execution_count": 6,
   "metadata": {
    "collapsed": false
   },
   "outputs": [],
   "source": [
    "for i in range(natoms):\n",
    "    coords[i, :] = [float(x) for x in lines[i+2].strip().split()[1:4]]\n",
    "    names[i] = lines[i+2].strip().split()[0]"
   ]
  },
  {
   "cell_type": "code",
   "execution_count": 7,
   "metadata": {
    "collapsed": true
   },
   "outputs": [],
   "source": [
    "for i in range(6, nmodes): # The first six modes are neglected (translation + rotation)\n",
    "    line_index = i * (natoms + 2) + 1\n",
    "    eigen_mode[i-6] = float(lines[line_index].strip().split()[2])\n",
    "    \n",
    "    for j in range(natoms):\n",
    "        line_index = i * (natoms + 2) + 2 + j\n",
    "        displ[i-6, j, :] = [float(d) for d in lines[line_index].strip().split()[5:9]]"
   ]
  },
  {
   "cell_type": "markdown",
   "metadata": {},
   "source": [
    "Now we test everything with the first mode only:"
   ]
  },
  {
   "cell_type": "code",
   "execution_count": 8,
   "metadata": {
    "collapsed": false
   },
   "outputs": [],
   "source": [
    "maxnorm = np.linalg.norm(displ[0, :, :], axis=1).max()"
   ]
  },
  {
   "cell_type": "code",
   "execution_count": 9,
   "metadata": {
    "collapsed": true
   },
   "outputs": [],
   "source": [
    "max_allowed_norm = 0.01 # Try many different deltaRmax\n",
    "renorm = maxnorm / max_allowed_norm"
   ]
  },
  {
   "cell_type": "code",
   "execution_count": 10,
   "metadata": {
    "collapsed": false
   },
   "outputs": [],
   "source": [
    "movedCoords = np.zeros((natoms, 3, 2))\n",
    "for i in range(0,2):\n",
    "     movedCoords[:,:,i] = coords + (-1)**i * displ[0, :, :]/renorm"
   ]
  },
  {
   "cell_type": "code",
   "execution_count": 38,
   "metadata": {
    "collapsed": false
   },
   "outputs": [],
   "source": [
    "writeXYZ('movedcoords.xyz', names, movedCoords[:,:,0])"
   ]
  },
  {
   "cell_type": "code",
   "execution_count": 39,
   "metadata": {
    "collapsed": false
   },
   "outputs": [],
   "source": [
    "mol = dftb_plus.dftb('movedcoords.xyz')"
   ]
  },
  {
   "cell_type": "code",
   "execution_count": 40,
   "metadata": {
    "collapsed": false
   },
   "outputs": [],
   "source": [
    "Hplus = mol.H0"
   ]
  },
  {
   "cell_type": "code",
   "execution_count": 41,
   "metadata": {
    "collapsed": true
   },
   "outputs": [],
   "source": [
    "writeXYZ('movedcoords.xyz', names, movedCoords[:,:,1])"
   ]
  },
  {
   "cell_type": "code",
   "execution_count": 42,
   "metadata": {
    "collapsed": true
   },
   "outputs": [],
   "source": [
    "mol = dftb_plus.dftb('movedcoords.xyz')"
   ]
  },
  {
   "cell_type": "code",
   "execution_count": 43,
   "metadata": {
    "collapsed": true
   },
   "outputs": [],
   "source": [
    "Hminus = mol.H0"
   ]
  },
  {
   "cell_type": "code",
   "execution_count": 45,
   "metadata": {
    "collapsed": false
   },
   "outputs": [],
   "source": [
    "dHmode = (Hplus - Hminus) / (2 * max_allowed_norm)"
   ]
  },
  {
   "cell_type": "code",
   "execution_count": 46,
   "metadata": {
    "collapsed": false
   },
   "outputs": [
    {
     "data": {
      "text/plain": [
       "array([[  0.00000000e+00,   0.00000000e+00,   0.00000000e+00, ...,\n",
       "          1.13831883e-03,  -2.04137072e-06,  -3.69575975e-11],\n",
       "       [  0.00000000e+00,   0.00000000e+00,   0.00000000e+00, ...,\n",
       "         -1.99947208e-05,   3.41921261e-11,  -1.96359016e-06],\n",
       "       [  0.00000000e+00,   0.00000000e+00,   0.00000000e+00, ...,\n",
       "          2.62948065e-03,  -5.18424097e-06,  -9.83682832e-11],\n",
       "       ..., \n",
       "       [  1.13831883e-03,  -1.99947208e-05,   2.62948065e-03, ...,\n",
       "          0.00000000e+00,   0.00000000e+00,   0.00000000e+00],\n",
       "       [ -2.04137072e-06,   3.41921261e-11,  -5.18424097e-06, ...,\n",
       "          0.00000000e+00,   0.00000000e+00,   0.00000000e+00],\n",
       "       [ -3.69575975e-11,  -1.96359016e-06,  -9.83682832e-11, ...,\n",
       "          0.00000000e+00,   0.00000000e+00,   0.00000000e+00]])"
      ]
     },
     "execution_count": 46,
     "metadata": {},
     "output_type": "execute_result"
    }
   ],
   "source": [
    "dHmode"
   ]
  }
 ],
 "metadata": {
  "anaconda-cloud": {},
  "kernelspec": {
   "display_name": "Python [Root]",
   "language": "python",
   "name": "Python [Root]"
  },
  "language_info": {
   "codemirror_mode": {
    "name": "ipython",
    "version": 3
   },
   "file_extension": ".py",
   "mimetype": "text/x-python",
   "name": "python",
   "nbconvert_exporter": "python",
   "pygments_lexer": "ipython3",
   "version": "3.5.2"
  }
 },
 "nbformat": 4,
 "nbformat_minor": 0
}
