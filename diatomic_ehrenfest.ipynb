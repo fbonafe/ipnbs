{
 "cells": [
  {
   "cell_type": "code",
   "execution_count": 1,
   "metadata": {
    "collapsed": true
   },
   "outputs": [],
   "source": [
    "import numpy as np\n",
    "import matplotlib.pyplot as plt\n",
    "from scipy import linalg\n",
    "%matplotlib inline"
   ]
  },
  {
   "cell_type": "code",
   "execution_count": 349,
   "metadata": {
    "collapsed": false
   },
   "outputs": [],
   "source": [
    "boltzmann_k = 1.0\n",
    "\n",
    "def hopping(params, r):\n",
    "    return - params.eps*params.cons*(params.afcc/r)**params.q/2.\n",
    "\n",
    "def deriv_hopping(params,r):\n",
    "    return params.eps*params.cons*params.q*params.afcc**params.q/r**(params.q+1)/2.\n",
    "\n",
    "def build_h(dim, params, r):\n",
    "    h = np.zeros((dim,dim),dtype=np.complex128)\n",
    "    factor = hopping(params,r)\n",
    "    for i in range(0,dim):\n",
    "        h[i,np.mod(i-1,dim)] = factor\n",
    "        h[np.mod(i-1,dim),i] = h[i,np.mod(i-1,dim)]\n",
    "    return h\n",
    "\n",
    "def build_s(dim, params, r):\n",
    "    s = np.zeros((dim,dim),dtype=np.complex128)\n",
    "    factor = - hopping(params,r)\n",
    "    factor = factor / 100.     # I defined S(i,j) = -hopping(i,j)/100 to ensure positive definiteness\n",
    "    for i in range(0,dim):\n",
    "        s[i,i] = 1.0\n",
    "        s[i,np.mod(i-1,dim)] = factor\n",
    "        s[np.mod(i-1,dim),i] = s[i,np.mod(i-1,dim)]\n",
    "    return s\n",
    "\n",
    "def build_dh(dim, params, r, atom):\n",
    "    dh = np.zeros((dim,dim),dtype=np.complex128)\n",
    "    factor = (-1)**(atom+1) * deriv_hopping(params,r)\n",
    "    dh[atom,np.mod(atom-1,dim)] = factor\n",
    "    dh[np.mod(atom-1,dim),atom] = dh[atom,np.mod(atom-1,dim)]\n",
    "    return dh\n",
    "\n",
    "def build_ds(dim, params, r, atom):\n",
    "    ds = np.zeros((dim,dim),dtype=np.complex128)\n",
    "    factor = - (-1)**(atom+1) * deriv_hopping(params,r)\n",
    "    factor = factor / 100.\n",
    "    ds[atom,np.mod(atom-1,dim)] = factor\n",
    "    ds[np.mod(atom-1,dim),atom] = ds[atom,np.mod(atom-1,dim)]\n",
    "    return ds\n",
    "\n",
    "def build_rdds(dim, params, veloc, r):\n",
    "    rdotds = np.zeros((dim,dim),dtype=np.complex128)\n",
    "    for i in range(dim):\n",
    "        dsi = build_ds(dim, params, r, i)\n",
    "        rdotds[:,i] = dsi[:,i]*veloc[i]\n",
    "    return rdotds\n",
    "\n",
    "def fermif(energy, mu, temp):\n",
    "    expo = (energy-mu)/(temp*boltzmann_k)\n",
    "    if expo < -100.0:\n",
    "        return 1.0\n",
    "    elif expo > 100.0:\n",
    "        return 0.0\n",
    "    else:\n",
    "        return 1.0/(np.exp(expo)+1.0)\n",
    "\n",
    "def repulsive(params,r):\n",
    "    return params.eps*(params.afcc/r)**params.p\n",
    "\n",
    "def deriv_repulsive(params,r,atom):\n",
    "    return - (-1)**(atom+1)*params.eps*params.p*params.afcc**params.p/r**(params.p+1)\n",
    "\n",
    "def energy(rho,h,params,r):\n",
    "    return np.trace(np.dot(rho,h)).real + repulsive(params,r)\n",
    "\n",
    "def kinetic(veloc,mass):\n",
    "    return 0.5*mass*sum(veloc**2)\n",
    "\n",
    "\n",
    "def forces(rho,sinv,h,params,r,atom):\n",
    "    dh1 = build_dh(dim, params, r, atom)\n",
    "    ds1 = build_ds(dim, params, r, atom)\n",
    "    drep1 = deriv_repulsive(params,r,atom)\n",
    "    aux = dh1 + 0.5*(np.dot(ds1,np.dot(sinv,h))+np.dot(np.dot(h,sinv),ds1))\n",
    "    force = - np.trace(np.dot(rho,aux)).real\n",
    "    force += - drep1\n",
    "    return force"
   ]
  },
  {
   "cell_type": "code",
   "execution_count": 250,
   "metadata": {
    "collapsed": true
   },
   "outputs": [],
   "source": [
    "class h2_params:\n",
    "    def __init__(self):\n",
    "        self.eps = 0.007\n",
    "        self.afcc = 3.61\n",
    "        self.p = 9\n",
    "        self.q = 3\n",
    "        self.cons = 112."
   ]
  },
  {
   "cell_type": "code",
   "execution_count": 397,
   "metadata": {
    "collapsed": false
   },
   "outputs": [],
   "source": [
    "dim = 2\n",
    "r = 2.5\n",
    "mass = 100.\n",
    "coord = np.array([0.0, r])\n",
    "veloc = np.zeros((dim))\n",
    "force = np.zeros((dim))\n",
    "folceold = np.zeros((dim))\n",
    "dt = 0.02\n",
    "params = h2_params()\n",
    "h = build_h(dim, params, r)\n",
    "s = build_s(dim, params, r)\n",
    "sinv = linalg.inv(s)\n",
    "\n",
    "w, v = linalg.eigh(h, b=s, lower=True)\n",
    "occ = np.zeros((dim, dim))\n",
    "for i in range(0, dim):\n",
    "    occ[i, i] = fermif(w[i].real, mu=0.0, temp=0.00000001)\n",
    "rho = 2.0 * np.dot(v, np.dot(occ, v.conjugate().T))"
   ]
  },
  {
   "cell_type": "code",
   "execution_count": 398,
   "metadata": {
    "collapsed": false
   },
   "outputs": [],
   "source": [
    "rdotds = build_rdds(dim, params, veloc, r)\n",
    "rhodot = (0-1.0j)*(np.dot(sinv,np.dot(h,rho))-np.dot(np.dot(rho,h),sinv))\n",
    "rhodot += -(np.dot(sinv,np.dot(rdotds,rho))+np.dot(np.dot(rho.conjugate(),rdotds.T),sinv))\n",
    "rhoold = rho - 1.0 * dt * rhodot\n",
    "\n",
    "for i in range(dim):\n",
    "    force[i] = forces(rho,sinv,h,params,r,i) #F_0\n",
    "    veloc[i] = 0.5*force[i]/mass*dt "
   ]
  },
  {
   "cell_type": "code",
   "execution_count": 399,
   "metadata": {
    "collapsed": false
   },
   "outputs": [],
   "source": [
    "nsteps = 10000\n",
    "traza = np.zeros((nsteps))\n",
    "time = np.zeros((nsteps))\n",
    "distance = np.zeros((nsteps))\n",
    "rho11 = np.zeros((nsteps),dtype=np.complex128)\n",
    "over = np.zeros((nsteps),dtype=np.complex128)\n",
    "energies = np.zeros((nsteps))\n",
    "kin = np.zeros((nsteps))\n",
    "for step in range(0, nsteps):\n",
    "    \n",
    "    rdotds = build_rdds(dim, params, veloc, r) #v_0\n",
    "\n",
    "    rhodot = (0-1.0j)*(np.dot(sinv,np.dot(h,rho))-np.dot(np.dot(rho,h),sinv))\n",
    "    rhodot += -(np.dot(sinv,np.dot(rdotds,rho))+np.dot(np.dot(rho.conjugate().T,rdotds.T),sinv))\n",
    "    rhonew = rhoold + 2.0 * dt * rhodot\n",
    "    rhoold = rho \n",
    "    rho = rhonew #rho is rho_1\n",
    "\n",
    "    for i in range(dim):\n",
    "        coord[i] = coord[i]+veloc[i]*dt+0.5*force[i]/mass*dt*dt #Coord is r_1, Veloc is v_0, force is F_0\n",
    "        \n",
    "    forceold = force #Forceold is F_0\n",
    "    r = np.abs(coord[1]-coord[0])\n",
    "    h = build_h(dim, params, r) #H_1\n",
    "    s = build_s(dim, params, r) #S_1\n",
    "    sinv = linalg.inv(s) #Sinv_1 \n",
    "    \n",
    "    for i in range(dim):\n",
    "        force[i] = forces(rho,sinv,h,params,r,i) #F_1\n",
    "        veloc[i] = veloc[i] + (force[i]+forceold[i])*dt/2./mass #v_1\n",
    "    \n",
    "    time[step] = step*dt\n",
    "    distance[step] = r\n",
    "    traza[step] = np.trace(np.dot(rho,s)).real\n",
    "    rho11[step] = rho[0,0]\n",
    "    over[step] = s[0,1]\n",
    "    energies[step] = energy(rho,h,params,r)+kinetic(veloc,mass)\n",
    "    kin[step] = kinetic(veloc,mass)"
   ]
  },
  {
   "cell_type": "code",
   "execution_count": 401,
   "metadata": {
    "collapsed": false
   },
   "outputs": [
    {
     "data": {
      "text/plain": [
       "[<matplotlib.lines.Line2D at 0x7fffbc32a1d0>]"
      ]
     },
     "execution_count": 401,
     "metadata": {},
     "output_type": "execute_result"
    },
    {
     "data": {
      "image/png": "[encoded data removed]",
      "text/plain": [
       "<matplotlib.figure.Figure at 0x7fffbc35cda0>"
      ]
     },
     "metadata": {},
     "output_type": "display_data"
    }
   ],
   "source": [
    "plt.plot(time,traza)#,time,kin)"
   ]
  },
  {
   "cell_type": "code",
   "execution_count": 311,
   "metadata": {
    "collapsed": false
   },
   "outputs": [
    {
     "data": {
      "text/plain": [
       "[<matplotlib.lines.Line2D at 0x7fffbcd51cf8>]"
      ]
     },
     "execution_count": 311,
     "metadata": {},
     "output_type": "execute_result"
    },
    {
     "data": {
      "image/png": "[encoded data removed]",
      "text/plain": [
       "<matplotlib.figure.Figure at 0x7fffbceb2358>"
      ]
     },
     "metadata": {},
     "output_type": "display_data"
    }
   ],
   "source": [
    "#check forces and energies\n",
    "dim = 2\n",
    "params = h2_params()\n",
    "x = np.linspace(2.,5.0,1000)\n",
    "energs = np.zeros((1000))\n",
    "fuerzas = np.zeros((1000))\n",
    "for j,r in enumerate(x):\n",
    "    h = build_h(dim, params, r)\n",
    "    s = build_s(dim, params, r)\n",
    "    sinv = linalg.inv(s)\n",
    "    w, v = linalg.eigh(h, b=s, lower=True)\n",
    "    occ = np.zeros((dim, dim))\n",
    "    for i in range(0, dim):\n",
    "        occ[i, i] = fermif(w[i].real, mu=0.0, temp=0.000001)\n",
    "    rho = 2.0 * np.dot(v, np.dot(occ, v.conjugate().T))\n",
    "    fuerzas[j] = forces(rho,sinv,h,params,r,1)\n",
    "    energs[j] = energy(rho,h,params,r)\n",
    "plt.plot(x,fuerzas,x,energs)\n",
    "fuerzas2 = -np.diff(energs)/(x[1]-x[0])\n",
    "plt.plot(x[0:-1],fuerzas2)"
   ]
  },
  {
   "cell_type": "code",
   "execution_count": null,
   "metadata": {
    "collapsed": true
   },
   "outputs": [],
   "source": []
  }
 ],
 "metadata": {
  "kernelspec": {
   "display_name": "Python 3",
   "language": "python",
   "name": "python3"
  },
  "language_info": {
   "codemirror_mode": {
    "name": "ipython",
    "version": 3
   },
   "file_extension": ".py",
   "mimetype": "text/x-python",
   "name": "python",
   "nbconvert_exporter": "python",
   "pygments_lexer": "ipython3",
   "version": "3.5.1"
  }
 },
 "nbformat": 4,
 "nbformat_minor": 0
}
